{
  "nbformat": 4,
  "nbformat_minor": 0,
  "metadata": {
    "colab": {
      "provenance": []
    },
    "kernelspec": {
      "name": "python3",
      "display_name": "Python 3"
    },
    "language_info": {
      "name": "python"
    }
  },
  "cells": [
    {
      "cell_type": "markdown",
      "source": [
        "# California VHR Tree Height Dataset Processing Pipeline (CTrees California Dataset)\n",
        "\n",
        " I've tried my best in this notebook to provide an efficient strategy to handle the 11,000+ TIF files (300+ GB) from the CTrees California dataset without downloading everything\n",
        "\n",
        "## Setup and Installation"
      ],
      "metadata": {
        "id": "QRCMFkHbO5JW"
      }
    },
    {
      "cell_type": "code",
      "execution_count": 1,
      "metadata": {
        "id": "59emzB4bO06b",
        "colab": {
          "base_uri": "https://localhost:8080/",
          "height": 0
        },
        "outputId": "e1a29d42-2060-41d2-a957-fc0a8b8108e2"
      },
      "outputs": [
        {
          "output_type": "stream",
          "name": "stdout",
          "text": [
            "\u001b[2K   \u001b[90m━━━━━━━━━━━━━━━━━━━━━━━━━━━━━━━━━━━━━━━━\u001b[0m \u001b[32m139.9/139.9 kB\u001b[0m \u001b[31m8.4 MB/s\u001b[0m eta \u001b[36m0:00:00\u001b[0m\n",
            "\u001b[2K   \u001b[90m━━━━━━━━━━━━━━━━━━━━━━━━━━━━━━━━━━━━━━━━\u001b[0m \u001b[32m22.2/22.2 MB\u001b[0m \u001b[31m26.4 MB/s\u001b[0m eta \u001b[36m0:00:00\u001b[0m\n",
            "\u001b[2K   \u001b[90m━━━━━━━━━━━━━━━━━━━━━━━━━━━━━━━━━━━━━━━━\u001b[0m \u001b[32m13.8/13.8 MB\u001b[0m \u001b[31m104.6 MB/s\u001b[0m eta \u001b[36m0:00:00\u001b[0m\n",
            "\u001b[2K   \u001b[90m━━━━━━━━━━━━━━━━━━━━━━━━━━━━━━━━━━━━━━━━\u001b[0m \u001b[32m85.2/85.2 kB\u001b[0m \u001b[31m6.3 MB/s\u001b[0m eta \u001b[36m0:00:00\u001b[0m\n",
            "\u001b[?25h"
          ]
        }
      ],
      "source": [
        "!pip install -q boto3 rasterio geopandas folium matplotlib tqdm requests beautifulsoup4\n",
        "\n",
        "import os\n",
        "import json\n",
        "import boto3\n",
        "from botocore import UNSIGNED\n",
        "from botocore.config import Config\n",
        "import rasterio\n",
        "from rasterio.crs import CRS\n",
        "from rasterio.warp import transform_bounds\n",
        "import geopandas as gpd\n",
        "from shapely.geometry import box, Polygon\n",
        "import pandas as pd\n",
        "import numpy as np\n",
        "import matplotlib.pyplot as plt\n",
        "import folium\n",
        "from tqdm import tqdm\n",
        "import requests\n",
        "from bs4 import BeautifulSoup\n",
        "from datetime import datetime\n",
        "from multiprocessing import Pool, cpu_count\n",
        "from functools import partial\n",
        "import warnings\n",
        "warnings.filterwarnings('ignore')"
      ]
    },
    {
      "cell_type": "markdown",
      "source": [
        "## Cell 1: Setup and Installation\n",
        "**What's happening here:** I'm installing the core libraries needed to work with geospatial data and AWS S3. The key players are rasterio (for reading satellite imagery), boto3 (for AWS access), and geopandas (for geographic analysis).\n",
        "\n",
        "**The challenge:** Working with 11,000+ files totaling 300+ GB means I need tools that can handle massive datasets efficiently without crashing my system or running out of memory."
      ],
      "metadata": {
        "id": "T9WthB9hQHRf"
      }
    },
    {
      "cell_type": "markdown",
      "source": [
        "# 1. Dataset Structure Discovery\n",
        " First, let's explore the S3 bucket structure without downloading files"
      ],
      "metadata": {
        "id": "kzwfYSgUPEs6"
      }
    },
    {
      "cell_type": "code",
      "source": [
        "# %% S3 Configuration\n",
        "# Configure S3 client for anonymous access\n",
        "s3_client = boto3.client('s3', config=Config(signature_version=UNSIGNED))\n",
        "bucket_name = 'ctrees-tree-height-ca-2020'\n",
        "\n",
        "# %% List Files from S3\n",
        "def list_s3_files(bucket, prefix='', max_keys=1000):\n",
        "    \"\"\"List files in S3 bucket with pagination support\"\"\"\n",
        "    files = []\n",
        "    continuation_token = None\n",
        "\n",
        "    while True:\n",
        "        params = {\n",
        "            'Bucket': bucket,\n",
        "            'Prefix': prefix,\n",
        "            'MaxKeys': max_keys\n",
        "        }\n",
        "        if continuation_token:\n",
        "            params['ContinuationToken'] = continuation_token\n",
        "\n",
        "        response = s3_client.list_objects_v2(**params)\n",
        "\n",
        "        if 'Contents' in response:\n",
        "            files.extend([obj['Key'] for obj in response['Contents'] if obj['Key'].endswith('.tif')])\n",
        "\n",
        "        if response.get('IsTruncated'):\n",
        "            continuation_token = response.get('NextContinuationToken')\n",
        "        else:\n",
        "            break\n",
        "\n",
        "    return files\n",
        "\n",
        "# Get initial sample of files\n",
        "print(\"Fetching file list from S3...\")\n",
        "sample_files = list_s3_files(bucket_name, max_keys=100)\n",
        "print(f\"Sample of {len(sample_files)} files retrieved\")\n",
        "print(\"Example filenames:\", sample_files[:5])"
      ],
      "metadata": {
        "colab": {
          "base_uri": "https://localhost:8080/",
          "height": 0
        },
        "id": "kX_0bFVqO-tm",
        "outputId": "d2f85fad-ead9-4a78-c499-3b0be82d2c74"
      },
      "execution_count": 2,
      "outputs": [
        {
          "output_type": "stream",
          "name": "stdout",
          "text": [
            "Fetching file list from S3...\n",
            "Sample of 11076 files retrieved\n",
            "Example filenames: ['v1/m_3211401_ne_11_060_20200524_tree_height.tif', 'v1/m_3211401_nw_11_060_20200524_tree_height.tif', 'v1/m_3211401_se_11_060_20200524_tree_height.tif', 'v1/m_3211401_sw_11_060_20200524_tree_height.tif', 'v1/m_3211402_ne_11_060_20200524_tree_height.tif']\n"
          ]
        }
      ]
    },
    {
      "cell_type": "markdown",
      "source": [
        "## Cell 2: Dataset Structure Discovery\n",
        "**The reconnaissance mission:** Before diving into 300GB of data, I needed to understand what I'm working with. This code connects to the S3 bucket anonymously and samples the file structure.\n",
        "\n",
        "**Key discovery:** Found 11,076 TIF files with a consistent naming pattern. Each file represents a specific geographic tile of California with tree height measurements from LiDAR data."
      ],
      "metadata": {
        "id": "l-lagJLaQMG2"
      }
    },
    {
      "cell_type": "markdown",
      "source": [
        "# 2. Metadata Extraction Strategy\n",
        "✅ **Task 1: Temporal Storage Solution** - Access files remotely without downloading 300+ GB\n",
        "Extract metadata without downloading full files using rasterio's remote capabilities"
      ],
      "metadata": {
        "id": "WA49DQ0KPL-C"
      }
    },
    {
      "cell_type": "code",
      "source": [
        "# %% Metadata Extraction Function\n",
        "def extract_tif_metadata(bucket, key):\n",
        "    \"\"\"Extract metadata from a TIF file without downloading it\"\"\"\n",
        "    s3_url = f's3://{bucket}/{key}'\n",
        "\n",
        "    try:\n",
        "        with rasterio.Env(AWS_NO_SIGN_REQUEST='YES'):\n",
        "            with rasterio.open(s3_url) as src:\n",
        "                bounds = src.bounds\n",
        "                transform = src.transform\n",
        "                crs = src.crs\n",
        "\n",
        "                # Convert bounds to lat/lon if needed\n",
        "                if crs and crs != CRS.from_epsg(4326):\n",
        "                    lon_min, lat_min, lon_max, lat_max = transform_bounds(\n",
        "                        crs, CRS.from_epsg(4326),\n",
        "                        bounds.left, bounds.bottom, bounds.right, bounds.top\n",
        "                    )\n",
        "                else:\n",
        "                    lon_min, lat_min, lon_max, lat_max = bounds.left, bounds.bottom, bounds.right, bounds.top\n",
        "\n",
        "                metadata = {\n",
        "                    'filename': key,\n",
        "                    'file_size_mb': s3_client.head_object(Bucket=bucket, Key=key)['ContentLength'] / (1024*1024),\n",
        "                    'bounds': {\n",
        "                        'minx': bounds.left,\n",
        "                        'miny': bounds.bottom,\n",
        "                        'maxx': bounds.right,\n",
        "                        'maxy': bounds.top\n",
        "                    },\n",
        "                    'bounds_wgs84': {\n",
        "                        'lon_min': lon_min,\n",
        "                        'lat_min': lat_min,\n",
        "                        'lon_max': lon_max,\n",
        "                        'lat_max': lat_max\n",
        "                    },\n",
        "                    'crs': str(crs),\n",
        "                    'width': src.width,\n",
        "                    'height': src.height,\n",
        "                    'count': src.count,\n",
        "                    'dtype': str(src.dtypes[0]),\n",
        "                    'nodata': src.nodata,\n",
        "                    'resolution': (transform.a, -transform.e)\n",
        "                }\n",
        "\n",
        "                return metadata\n",
        "    except Exception as e:\n",
        "        print(f\"Error processing {key}: {str(e)}\")\n",
        "        return None\n",
        "\n",
        "# Test on a sample file\n",
        "if sample_files:\n",
        "    test_metadata = extract_tif_metadata(bucket_name, sample_files[0])\n",
        "    print(\"Sample metadata:\")\n",
        "    print(json.dumps(test_metadata, indent=2))"
      ],
      "metadata": {
        "colab": {
          "base_uri": "https://localhost:8080/",
          "height": 0
        },
        "id": "kHA87QHUPQaa",
        "outputId": "a848ef97-401e-4867-c6d2-517664db9e13"
      },
      "execution_count": 3,
      "outputs": [
        {
          "output_type": "stream",
          "name": "stdout",
          "text": [
            "Sample metadata:\n",
            "{\n",
            "  \"filename\": \"v1/m_3211401_ne_11_060_20200524_tree_height.tif\",\n",
            "  \"file_size_mb\": 7.877681732177734,\n",
            "  \"bounds\": {\n",
            "    \"minx\": 692484.0,\n",
            "    \"miny\": 3646044.0,\n",
            "    \"maxx\": 698832.0,\n",
            "    \"maxy\": 3653460.0\n",
            "  },\n",
            "  \"bounds_wgs84\": {\n",
            "    \"lon_min\": -114.94116660779531,\n",
            "    \"lat_min\": 32.93460422130244,\n",
            "    \"lon_max\": -114.8717042955519,\n",
            "    \"lat_max\": 33.00259320942475\n",
            "  },\n",
            "  \"crs\": \"EPSG:26911\",\n",
            "  \"width\": 10580,\n",
            "  \"height\": 12360,\n",
            "  \"count\": 1,\n",
            "  \"dtype\": \"uint8\",\n",
            "  \"nodata\": 255.0,\n",
            "  \"resolution\": [\n",
            "    0.6,\n",
            "    0.6\n",
            "  ]\n",
            "}\n"
          ]
        }
      ]
    },
    {
      "cell_type": "markdown",
      "source": [
        "## Cell 3: Metadata Extraction Strategy  \n",
        "**The smart approach:** Instead of downloading entire files, I'm reading just the metadata remotely. Think of it like reading a book's table of contents without buying the whole book.\n",
        "\n",
        "**Why this matters:** Each file contains crucial geographic boundaries, coordinate systems, and file sizes. This metadata tells me exactly where each file covers without the massive download overhead."
      ],
      "metadata": {
        "id": "064T_nBOQPVW"
      }
    },
    {
      "cell_type": "markdown",
      "source": [
        "# 3. Define Target Area and Filter Files\n",
        "✅ **Task 2: Filter Irrelevant Files** - Identify only redwood forest areas from 11,000+ files"
      ],
      "metadata": {
        "id": "2VxOZ3hGPUcN"
      }
    },
    {
      "cell_type": "code",
      "source": [
        "# %% Target Area Definition with All Hardcoded Coordinates\n",
        "# Define target areas for redwood forests based on BigTreeID priority areas\n",
        "TARGET_AREAS = {\n",
        "    # Phase 1 Priority Areas\n",
        "    'humboldt_redwoods': {\n",
        "        'name': 'Humboldt County Forests (Redwood National/State Parks + Humboldt Redwoods)',\n",
        "        'lon_min': -124.25,\n",
        "        'lon_max': -123.75,\n",
        "        'lat_min': 40.10,\n",
        "        'lat_max': 41.75,\n",
        "        'priority': 1\n",
        "    },\n",
        "    'sequoia_national_park': {\n",
        "        'name': 'Sequoia National Park (Giant Sequoias)',\n",
        "        'lon_min': -118.95,\n",
        "        'lon_max': -118.25,\n",
        "        'lat_min': 36.25,\n",
        "        'lat_max': 37.15,\n",
        "        'priority': 1\n",
        "    },\n",
        "    # Phase 2 Priority Areas\n",
        "    'santa_cruz_mountains': {\n",
        "        'name': 'Santa Cruz Mountains Recovery Areas',\n",
        "        'lon_min': -122.35,\n",
        "        'lon_max': -121.95,\n",
        "        'lat_min': 36.95,\n",
        "        'lat_max': 37.25,\n",
        "        'priority': 2\n",
        "    },\n",
        "    'mendocino_county': {\n",
        "        'name': 'Mendocino County Continuous Forests',\n",
        "        'lon_min': -123.90,\n",
        "        'lon_max': -123.40,\n",
        "        'lat_min': 38.80,\n",
        "        'lat_max': 39.80,\n",
        "        'priority': 2\n",
        "    },\n",
        "    # Additional Areas\n",
        "    'sonoma_county': {\n",
        "        'name': 'Sonoma County (Existing BigTreeID Study Area)',\n",
        "        'lon_min': -123.20,\n",
        "        'lon_max': -122.80,\n",
        "        'lat_min': 38.30,\n",
        "        'lat_max': 38.70,\n",
        "        'priority': 3\n",
        "    },\n",
        "    'big_sur': {\n",
        "        'name': 'Big Sur Redwood Forests',\n",
        "        'lon_min': -121.90,\n",
        "        'lon_max': -121.38,\n",
        "        'lat_min': 35.82,\n",
        "        'lat_max': 36.35,\n",
        "        'priority': 3\n",
        "    },\n",
        "    'yosemite_sequoias': {\n",
        "        'name': 'Yosemite Giant Sequoia Groves',\n",
        "        'lon_min': -119.75,\n",
        "        'lon_max': -119.25,\n",
        "        'lat_min': 37.45,\n",
        "        'lat_max': 37.85,\n",
        "        'priority': 3\n",
        "    },\n",
        "    # Coast Reference Polygons\n",
        "    'coast_ref_0': {'name': 'Coast Reference 0', 'lon_min': -122.228170963733007, 'lon_max': -121.464089310201999, 'lat_min': 36.935361101090997, 'lat_max': 37.586655059140497, 'priority': 4},\n",
        "    'coast_ref_1': {'name': 'Coast Reference 1', 'lon_min': -119.15694, 'lon_max': -118.998843272390999, 'lat_min': 36.049902, 'lat_max': 36.307696397625399, 'priority': 4},\n",
        "    'coast_ref_2': {'name': 'Coast Reference 2', 'lon_min': -122.560481585296003, 'lon_max': -122.114784995020003, 'lat_min': 37.111377149278901, 'lat_max': 37.730632936171503, 'priority': 4},\n",
        "    'coast_ref_3': {'name': 'Coast Reference 3', 'lon_min': -122.914452870638002, 'lon_max': -122.344709193021004, 'lat_min': 37.781547408731399, 'lat_max': 38.292868351702403, 'priority': 4},\n",
        "    'coast_ref_4': {'name': 'Coast Reference 4', 'lon_min': -122.350041814224994, 'lon_max': -121.607022519479997, 'lat_min': 36.753557645038597, 'lat_max': 37.293837059610098, 'priority': 4},\n",
        "    'coast_ref_5': {'name': 'Coast Reference 5', 'lon_min': -123.584090460197999, 'lon_max': -122.367668254609995, 'lat_min': 38.165977614628197, 'lat_max': 38.930309710114102, 'priority': 4},\n",
        "    'coast_ref_6': {'name': 'Coast Reference 6', 'lon_min': -122.118801904006006, 'lon_max': -120.48899, 'lat_min': 35.460779206595902, 'lat_max': 36.8578252132492, 'priority': 4},\n",
        "    'coast_ref_7': {'name': 'Coast Reference 7', 'lon_min': -124.169071593208002, 'lon_max': -123.063987370377006, 'lat_min': 38.724918097999499, 'lat_max': 40.072016334260397, 'priority': 4},\n",
        "    'coast_ref_8': {'name': 'Coast Reference 8', 'lon_min': -122.308513410111004, 'lon_max': -122.124965505228005, 'lat_min': 37.8039543459833, 'lat_max': 38.016388, 'priority': 4},\n",
        "    'coast_ref_9': {'name': 'Coast Reference 9', 'lon_min': -124.193442736589006, 'lon_max': -123.936883, 'lat_min': 41.5500821756645, 'lat_max': 41.880001, 'priority': 4},\n",
        "    'coast_ref_10': {'name': 'Coast Reference 10', 'lon_min': -122.289402519800007, 'lon_max': -121.811788459100995, 'lat_min': 37.493906294362503, 'lat_max': 37.8905372557074, 'priority': 4},\n",
        "    'coast_ref_11': {'name': 'Coast Reference 11', 'lon_min': -124.397660353524998, 'lon_max': -123.77918, 'lat_min': 39.956167067979699, 'lat_max': 41.439999, 'priority': 4},\n",
        "    'coast_ref_12': {'name': 'Coast Reference 12', 'lon_min': -122.630635834271999, 'lon_max': -122.170698165869993, 'lat_min': 38.275242386276602, 'lat_max': 38.659409035901398, 'priority': 4},\n",
        "    'coast_ref_13': {'name': 'Coast Reference 13', 'lon_min': -122.485612173557001, 'lon_max': -122.407364, 'lat_min': 37.769562, 'lat_max': 37.8385567149774, 'priority': 4},\n",
        "    'coast_ref_14': {'name': 'Coast Reference 14', 'lon_min': -121.081923, 'lon_max': -120.627057483838001, 'lat_min': 35.26747, 'lat_max': 35.714100243588803, 'priority': 4},\n",
        "    # Sequoia Reference Polygons\n",
        "    'sequoia_ref_0': {'name': 'Sequoia Reference 0', 'lon_min': -119.044122, 'lon_max': -118.296698, 'lat_min': 35.764204, 'lat_max': 36.851604, 'priority': 5},\n",
        "    'sequoia_ref_1': {'name': 'Sequoia Reference 1', 'lon_min': -119.844968, 'lon_max': -119.47031, 'lat_min': 37.456882, 'lat_max': 37.85, 'priority': 5},\n",
        "    'sequoia_ref_2': {'name': 'Sequoia Reference 2', 'lon_min': -120.564188, 'lon_max': -120.47882, 'lat_min': 38.437709, 'lat_max': 38.510564, 'priority': 5},\n",
        "    'sequoia_ref_3': {'name': 'Sequoia Reference 3', 'lon_min': -120.958349, 'lon_max': -120.215052, 'lat_min': 38.174966, 'lat_max': 38.440088, 'priority': 5},\n",
        "    'sequoia_ref_4': {'name': 'Sequoia Reference 4', 'lon_min': -120.375481, 'lon_max': -119.46498, 'lat_min': 37.664477, 'lat_max': 38.315884, 'priority': 5},\n",
        "    'sequoia_ref_5': {'name': 'Sequoia Reference 5', 'lon_min': -120.158753, 'lon_max': -120.046091, 'lat_min': 38.924187, 'lat_max': 39.026803, 'priority': 5},\n",
        "    'sequoia_ref_6': {'name': 'Sequoia Reference 6', 'lon_min': -119.628884, 'lon_max': -119.5868, 'lat_min': 37.358604, 'lat_max': 37.435063, 'priority': 5},\n",
        "    'sequoia_ref_8': {'name': 'Sequoia Reference 8', 'lon_min': -119.352808, 'lon_max': -118.355807, 'lat_min': 36.503727, 'lat_max': 37.250454, 'priority': 5},\n",
        "    'sequoia_ref_9': {'name': 'Sequoia Reference 9', 'lon_min': -121.110448, 'lon_max': -120.236648, 'lat_min': 38.888808, 'lat_max': 39.378415, 'priority': 5},\n",
        "    'sequoia_ref_10': {'name': 'Sequoia Reference 10', 'lon_min': -116.76631, 'lon_max': -116.698444, 'lat_min': 33.75533, 'lat_max': 33.828958, 'priority': 5},\n",
        "    'sequoia_ref_11': {'name': 'Sequoia Reference 11', 'lon_min': -120.047286, 'lon_max': -120.043717, 'lat_min': 38.464725, 'lat_max': 38.4715, 'priority': 5},\n",
        "    'sequoia_ref_12': {'name': 'Sequoia Reference 12', 'lon_min': -117.9875, 'lon_max': -117.708187, 'lat_min': 34.325732, 'lat_max': 34.386958, 'priority': 5},\n",
        "    'sequoia_ref_14': {'name': 'Sequoia Reference 14', 'lon_min': -121.846111, 'lon_max': -121.163918, 'lat_min': 39.521589, 'lat_max': 40.043867, 'priority': 5},\n",
        "    'sequoia_ref_15': {'name': 'Sequoia Reference 15', 'lon_min': -117.510917, 'lon_max': -116.860985, 'lat_min': 34.031148, 'lat_max': 34.37407, 'priority': 5},\n",
        "    'sequoia_ref_20': {'name': 'Sequoia Reference 20', 'lon_min': -120.713601, 'lon_max': -120.356753, 'lat_min': 37.238049, 'lat_max': 37.522271, 'priority': 5}\n",
        "}\n",
        "\n",
        "print(f\"Total target areas: {len(TARGET_AREAS)}\")\n",
        "print(f\"Priority 1 areas: {len([a for a in TARGET_AREAS.values() if a['priority'] == 1])}\")\n",
        "print(f\"Priority 2 areas: {len([a for a in TARGET_AREAS.values() if a['priority'] == 2])}\")\n",
        "print(f\"Priority 3 areas: {len([a for a in TARGET_AREAS.values() if a['priority'] == 3])}\")\n",
        "print(f\"Priority 4 areas: {len([a for a in TARGET_AREAS.values() if a['priority'] == 4])}\")\n",
        "print(f\"Priority 5 areas: {len([a for a in TARGET_AREAS.values() if a['priority'] == 5])}\")\n",
        "\n",
        "def intersects_any_target_area(metadata, target_areas):\n",
        "    \"\"\"Check if a file's bounds intersect with any target area\"\"\"\n",
        "    if not metadata or 'bounds_wgs84' not in metadata:\n",
        "        return False, None\n",
        "\n",
        "    file_box = box(\n",
        "        metadata['bounds_wgs84']['lon_min'],\n",
        "        metadata['bounds_wgs84']['lat_min'],\n",
        "        metadata['bounds_wgs84']['lon_max'],\n",
        "        metadata['bounds_wgs84']['lat_max']\n",
        "    )\n",
        "\n",
        "    for area_key, area in target_areas.items():\n",
        "        target_box = box(\n",
        "            area['lon_min'],\n",
        "            area['lat_min'],\n",
        "            area['lon_max'],\n",
        "            area['lat_max']\n",
        "        )\n",
        "\n",
        "        if file_box.intersects(target_box):\n",
        "            return True, area_key\n",
        "\n",
        "    return False, None"
      ],
      "metadata": {
        "colab": {
          "base_uri": "https://localhost:8080/",
          "height": 0
        },
        "id": "6k3p3TGmPbMv",
        "outputId": "bd8a8b12-0240-4768-a204-f178b48c4300"
      },
      "execution_count": 4,
      "outputs": [
        {
          "output_type": "stream",
          "name": "stdout",
          "text": [
            "Total target areas: 37\n",
            "Priority 1 areas: 2\n",
            "Priority 2 areas: 2\n",
            "Priority 3 areas: 3\n",
            "Priority 4 areas: 15\n",
            "Priority 5 areas: 15\n"
          ]
        }
      ]
    },
    {
      "cell_type": "markdown",
      "source": [
        "## Cell 4: Define Target Area and Filter Files\n",
        "**Getting specific:** Not all of California is relevant for redwood research. I've hardcoded 37 target areas covering known redwood habitats, from Humboldt County down to Big Sur.\n",
        "\n",
        "**The filtering magic:** This creates a geographic filter that will dramatically reduce our dataset from 11,076 files to only those covering redwood forests. It's like having a smart map that highlights only the areas we care about."
      ],
      "metadata": {
        "id": "OERq_pCzQRzJ"
      }
    },
    {
      "cell_type": "markdown",
      "source": [
        "# 4. Batch Metadata Processing\n",
        "✅ **Task 3: Full File List with Coordinates** - Extract location data for all 11,076 files  \n",
        "✅ **Task 4: Generate JSON Metadata** - Create comprehensive metadata files with bounds  \n",
        "✅ **Task 5: Target Area Files** - Identify 2,634 files covering redwood forests"
      ],
      "metadata": {
        "id": "AFfrrEXjPiT9"
      }
    },
    {
      "cell_type": "code",
      "source": [
        "# %% Process All Files Efficiently\n",
        "def process_dataset_metadata(sample_size=None, save_interval=1000):\n",
        "    \"\"\"Process metadata for all files in the dataset\"\"\"\n",
        "\n",
        "    # Get complete file list\n",
        "    print(\"Fetching complete file list...\")\n",
        "    all_files = list_s3_files(bucket_name, max_keys=20000)  # Increased for full dataset\n",
        "\n",
        "    if sample_size:\n",
        "        all_files = all_files[:sample_size]\n",
        "\n",
        "    print(f\"Total files to process: {len(all_files)}\")\n",
        "\n",
        "    metadata_list = []\n",
        "    target_area_files = {}  # Dict to organize by area\n",
        "    errors = []\n",
        "\n",
        "    # Initialize target area dictionaries\n",
        "    for area_key in TARGET_AREAS.keys():\n",
        "        target_area_files[area_key] = []\n",
        "\n",
        "    # Process files in batches\n",
        "    for i, file_key in enumerate(tqdm(all_files, desc=\"Processing metadata\")):\n",
        "        metadata = extract_tif_metadata(bucket_name, file_key)\n",
        "\n",
        "        if metadata:\n",
        "            metadata_list.append(metadata)\n",
        "\n",
        "            # Check if file intersects any target area\n",
        "            intersects, area_key = intersects_any_target_area(metadata, TARGET_AREAS)\n",
        "            if intersects:\n",
        "                metadata['target_area'] = TARGET_AREAS[area_key]['name']\n",
        "                metadata['priority'] = TARGET_AREAS[area_key]['priority']\n",
        "                target_area_files[area_key].append(metadata)\n",
        "        else:\n",
        "            errors.append(file_key)\n",
        "\n",
        "        # Save intermediate results\n",
        "        if (i + 1) % save_interval == 0:\n",
        "            save_metadata_results(metadata_list, target_area_files, errors)\n",
        "\n",
        "    # Final save\n",
        "    save_metadata_results(metadata_list, target_area_files, errors)\n",
        "\n",
        "    return metadata_list, target_area_files, errors\n",
        "\n",
        "def save_metadata_results(metadata_list, target_area_files, errors):\n",
        "    \"\"\"Save metadata results to JSON files\"\"\"\n",
        "    # Save all metadata\n",
        "    with open('ctrees_metadata_all.json', 'w') as f:\n",
        "        json.dump(metadata_list, f, indent=2)\n",
        "\n",
        "    # Save target area files by priority\n",
        "    all_target_files = []\n",
        "    priority_counts = {1: 0, 2: 0, 3: 0, 4: 0, 5: 0}\n",
        "\n",
        "    for area_key, files in target_area_files.items():\n",
        "        if files:\n",
        "            # Save individual area files\n",
        "            with open(f'ctrees_metadata_{area_key}.json', 'w') as f:\n",
        "                json.dump(files, f, indent=2)\n",
        "\n",
        "            # Add to combined list\n",
        "            all_target_files.extend(files)\n",
        "\n",
        "            # Count by priority\n",
        "            area_priority = TARGET_AREAS[area_key]['priority']\n",
        "            priority_counts[area_priority] += len(files)\n",
        "\n",
        "    # Save combined target area files\n",
        "    with open('ctrees_metadata_all_target_areas.json', 'w') as f:\n",
        "        json.dump(all_target_files, f, indent=2)\n",
        "\n",
        "    # Save errors\n",
        "    with open('ctrees_processing_errors.json', 'w') as f:\n",
        "        json.dump(errors, f, indent=2)\n",
        "\n",
        "    print(f\"\\nSaved {len(metadata_list)} metadata records\")\n",
        "    print(f\"Target area files by priority:\")\n",
        "    for priority, count in priority_counts.items():\n",
        "        print(f\"  Priority {priority}: {count} files\")\n",
        "    print(f\"Total target area files: {len(all_target_files)}\")\n",
        "    print(f\"Processing errors: {len(errors)}\")\n",
        "\n",
        "\n",
        "\n",
        "# %% Parallel Processing Setup\n",
        "def process_file_batch(file_batch, bucket_name):\n",
        "    \"\"\"Process a batch of files (for parallel processing)\"\"\"\n",
        "    results = {'metadata': [], 'target_files': {}, 'errors': []}\n",
        "\n",
        "    # Initialize target area dictionaries\n",
        "    for area_key in TARGET_AREAS.keys():\n",
        "        results['target_files'][area_key] = []\n",
        "\n",
        "    for file_key in file_batch:\n",
        "        metadata = extract_tif_metadata(bucket_name, file_key)\n",
        "\n",
        "        if metadata:\n",
        "            results['metadata'].append(metadata)\n",
        "\n",
        "            # Check if file intersects any target area\n",
        "            intersects, area_key = intersects_any_target_area(metadata, TARGET_AREAS)\n",
        "            if intersects:\n",
        "                metadata['target_area'] = TARGET_AREAS[area_key]['name']\n",
        "                metadata['priority'] = TARGET_AREAS[area_key]['priority']\n",
        "                results['target_files'][area_key].append(metadata)\n",
        "        else:\n",
        "            results['errors'].append(file_key)\n",
        "\n",
        "    return results\n",
        "\n",
        "def process_dataset_metadata_parallel(sample_size=None, save_interval=1000, n_workers=None):\n",
        "    \"\"\"Process metadata for all files using parallel processing\"\"\"\n",
        "\n",
        "    # Force at least 4 workers, max 16\n",
        "    if n_workers is None:\n",
        "        n_workers = max(4, min(cpu_count(), 16))\n",
        "\n",
        "    print(f\"Using {n_workers} parallel workers\")\n",
        "\n",
        "    # Get complete file list\n",
        "    print(\"Fetching complete file list...\")\n",
        "    all_files = list_s3_files(bucket_name, max_keys=20000)\n",
        "\n",
        "    if sample_size:\n",
        "        all_files = all_files[:sample_size]\n",
        "\n",
        "    print(f\"Total files to process: {len(all_files)}\")\n",
        "\n",
        "    # Use smaller batches for better progress tracking\n",
        "    batch_size = 50  # Process 50 files per batch\n",
        "    file_batches = [all_files[i:i+batch_size] for i in range(0, len(all_files), batch_size)]\n",
        "    print(f\"Created {len(file_batches)} batches of ~{batch_size} files each\")\n",
        "\n",
        "    metadata_list = []\n",
        "    target_area_files = {}\n",
        "    errors = []\n",
        "\n",
        "    # Initialize target area dictionaries\n",
        "    for area_key in TARGET_AREAS.keys():\n",
        "        target_area_files[area_key] = []\n",
        "\n",
        "    # Process batches in parallel\n",
        "    process_func = partial(process_file_batch, bucket_name=bucket_name)\n",
        "\n",
        "    try:\n",
        "        with Pool(n_workers) as pool:\n",
        "            with tqdm(total=len(all_files), desc=\"Processing metadata (parallel)\") as pbar:\n",
        "                for batch_results in pool.imap(process_func, file_batches):\n",
        "                    # Merge results\n",
        "                    metadata_list.extend(batch_results['metadata'])\n",
        "                    errors.extend(batch_results['errors'])\n",
        "\n",
        "                    for area_key, files in batch_results['target_files'].items():\n",
        "                        target_area_files[area_key].extend(files)\n",
        "\n",
        "                    # Update progress\n",
        "                    pbar.update(len(batch_results['metadata']) + len(batch_results['errors']))\n",
        "\n",
        "                    # Save intermediate results\n",
        "                    if len(metadata_list) % save_interval == 0 and len(metadata_list) > 0:\n",
        "                        save_metadata_results(metadata_list, target_area_files, errors)\n",
        "    except Exception as e:\n",
        "        print(f\"Error in parallel processing: {e}\")\n",
        "        print(\"Falling back to single-threaded processing\")\n",
        "        return process_dataset_metadata(sample_size=sample_size, save_interval=save_interval)\n",
        "\n",
        "    # Final save\n",
        "    save_metadata_results(metadata_list, target_area_files, errors)\n",
        "\n",
        "    return metadata_list, target_area_files, errors\n",
        "\n",
        "# Choose processing method\n",
        "USE_PARALLEL = True  # Set to False to use single-threaded processing\n",
        "\n",
        "if USE_PARALLEL:\n",
        "    # Process FULL DATASET with parallel processing\n",
        "    # Force at least 4 workers for better performance\n",
        "    metadata_list, target_area_files, errors = process_dataset_metadata_parallel(sample_size=None, n_workers=8)\n",
        "else:\n",
        "    # Original single-threaded processing\n",
        "    metadata_list, target_area_files, errors = process_dataset_metadata(sample_size=None)"
      ],
      "metadata": {
        "colab": {
          "base_uri": "https://localhost:8080/",
          "height": 0
        },
        "id": "TW0akkBRPnYM",
        "outputId": "a4e95030-b06a-4b4c-b678-667171799ef6"
      },
      "execution_count": 5,
      "outputs": [
        {
          "output_type": "stream",
          "name": "stdout",
          "text": [
            "Using 8 parallel workers\n",
            "Fetching complete file list...\n",
            "Total files to process: 11076\n",
            "Created 222 batches of ~50 files each\n"
          ]
        },
        {
          "output_type": "stream",
          "name": "stderr",
          "text": [
            "Processing metadata (parallel):   9%|▉         | 1050/11076 [06:10<35:06,  4.76it/s]"
          ]
        },
        {
          "output_type": "stream",
          "name": "stdout",
          "text": [
            "\n",
            "Saved 1000 metadata records\n",
            "Target area files by priority:\n",
            "  Priority 1: 0 files\n",
            "  Priority 2: 0 files\n",
            "  Priority 3: 0 files\n",
            "  Priority 4: 0 files\n",
            "  Priority 5: 4 files\n",
            "Total target area files: 4\n",
            "Processing errors: 0\n"
          ]
        },
        {
          "output_type": "stream",
          "name": "stderr",
          "text": [
            "Processing metadata (parallel):  18%|█▊        | 1950/11076 [10:38<27:08,  5.60it/s]"
          ]
        },
        {
          "output_type": "stream",
          "name": "stdout",
          "text": [
            "\n",
            "Saved 2000 metadata records\n",
            "Target area files by priority:\n",
            "  Priority 1: 0 files\n",
            "  Priority 2: 0 files\n",
            "  Priority 3: 0 files\n",
            "  Priority 4: 0 files\n",
            "  Priority 5: 26 files\n",
            "Total target area files: 26\n",
            "Processing errors: 0\n"
          ]
        },
        {
          "output_type": "stream",
          "name": "stderr",
          "text": [
            "Processing metadata (parallel):  28%|██▊       | 3050/11076 [17:05<29:36,  4.52it/s]"
          ]
        },
        {
          "output_type": "stream",
          "name": "stdout",
          "text": [
            "\n",
            "Saved 3000 metadata records\n",
            "Target area files by priority:\n",
            "  Priority 1: 0 files\n",
            "  Priority 2: 0 files\n",
            "  Priority 3: 0 files\n",
            "  Priority 4: 0 files\n",
            "  Priority 5: 98 files\n",
            "Total target area files: 98\n",
            "Processing errors: 0\n"
          ]
        },
        {
          "output_type": "stream",
          "name": "stderr",
          "text": [
            "Processing metadata (parallel):  36%|███▌      | 3950/11076 [21:31<19:19,  6.15it/s]"
          ]
        },
        {
          "output_type": "stream",
          "name": "stdout",
          "text": [
            "\n",
            "Saved 4000 metadata records\n",
            "Target area files by priority:\n",
            "  Priority 1: 0 files\n",
            "  Priority 2: 0 files\n",
            "  Priority 3: 0 files\n",
            "  Priority 4: 56 files\n",
            "  Priority 5: 150 files\n",
            "Total target area files: 206\n",
            "Processing errors: 0\n"
          ]
        },
        {
          "output_type": "stream",
          "name": "stderr",
          "text": [
            "Processing metadata (parallel):  46%|████▌     | 5050/11076 [27:57<25:19,  3.96it/s]"
          ]
        },
        {
          "output_type": "stream",
          "name": "stdout",
          "text": [
            "\n",
            "Saved 5000 metadata records\n",
            "Target area files by priority:\n",
            "  Priority 1: 169 files\n",
            "  Priority 2: 0 files\n",
            "  Priority 3: 7 files\n",
            "  Priority 4: 142 files\n",
            "  Priority 5: 233 files\n",
            "Total target area files: 551\n",
            "Processing errors: 0\n"
          ]
        },
        {
          "output_type": "stream",
          "name": "stderr",
          "text": [
            "Processing metadata (parallel):  54%|█████▍    | 6000/11076 [32:49<15:36,  5.42it/s]"
          ]
        },
        {
          "output_type": "stream",
          "name": "stdout",
          "text": [
            "\n",
            "Saved 6000 metadata records\n",
            "Target area files by priority:\n",
            "  Priority 1: 208 files\n",
            "  Priority 2: 4 files\n",
            "  Priority 3: 103 files\n",
            "  Priority 4: 454 files\n",
            "  Priority 5: 288 files\n",
            "Total target area files: 1057\n",
            "Processing errors: 0\n"
          ]
        },
        {
          "output_type": "stream",
          "name": "stderr",
          "text": [
            "Processing metadata (parallel):  63%|██████▎   | 6950/11076 [40:13<33:36,  2.05it/s]"
          ]
        },
        {
          "output_type": "stream",
          "name": "stdout",
          "text": [
            "\n",
            "Saved 7000 metadata records\n",
            "Target area files by priority:\n",
            "  Priority 1: 208 files\n",
            "  Priority 2: 38 files\n",
            "  Priority 3: 118 files\n",
            "  Priority 4: 663 files\n",
            "  Priority 5: 468 files\n",
            "Total target area files: 1495\n",
            "Processing errors: 0\n"
          ]
        },
        {
          "output_type": "stream",
          "name": "stderr",
          "text": [
            "Processing metadata (parallel):  72%|███████▏  | 7950/11076 [45:35<10:51,  4.80it/s]"
          ]
        },
        {
          "output_type": "stream",
          "name": "stdout",
          "text": [
            "\n",
            "Saved 8000 metadata records\n",
            "Target area files by priority:\n",
            "  Priority 1: 208 files\n",
            "  Priority 2: 59 files\n",
            "  Priority 3: 176 files\n",
            "  Priority 4: 855 files\n",
            "  Priority 5: 617 files\n",
            "Total target area files: 1915\n",
            "Processing errors: 0\n"
          ]
        },
        {
          "output_type": "stream",
          "name": "stderr",
          "text": [
            "Processing metadata (parallel):  82%|████████▏ | 9050/11076 [53:17<11:42,  2.88it/s]"
          ]
        },
        {
          "output_type": "stream",
          "name": "stdout",
          "text": [
            "\n",
            "Saved 9000 metadata records\n",
            "Target area files by priority:\n",
            "  Priority 1: 208 files\n",
            "  Priority 2: 154 files\n",
            "  Priority 3: 176 files\n",
            "  Priority 4: 981 files\n",
            "  Priority 5: 809 files\n",
            "Total target area files: 2328\n",
            "Processing errors: 0\n"
          ]
        },
        {
          "output_type": "stream",
          "name": "stderr",
          "text": [
            "Processing metadata (parallel):  90%|█████████ | 10000/11076 [58:31<03:02,  5.91it/s]"
          ]
        },
        {
          "output_type": "stream",
          "name": "stdout",
          "text": [
            "\n",
            "Saved 10000 metadata records\n",
            "Target area files by priority:\n",
            "  Priority 1: 350 files\n",
            "  Priority 2: 154 files\n",
            "  Priority 3: 176 files\n",
            "  Priority 4: 1021 files\n",
            "  Priority 5: 821 files\n",
            "Total target area files: 2522\n",
            "Processing errors: 0\n"
          ]
        },
        {
          "output_type": "stream",
          "name": "stderr",
          "text": [
            "Processing metadata (parallel): 100%|██████████| 11076/11076 [1:05:31<00:00,  2.82it/s]"
          ]
        },
        {
          "output_type": "stream",
          "name": "stdout",
          "text": [
            "\n",
            "Saved 11000 metadata records\n",
            "Target area files by priority:\n",
            "  Priority 1: 415 files\n",
            "  Priority 2: 154 files\n",
            "  Priority 3: 176 files\n",
            "  Priority 4: 1026 files\n",
            "  Priority 5: 821 files\n",
            "Total target area files: 2592\n",
            "Processing errors: 0\n"
          ]
        },
        {
          "output_type": "stream",
          "name": "stderr",
          "text": [
            "\n"
          ]
        },
        {
          "output_type": "stream",
          "name": "stdout",
          "text": [
            "\n",
            "Saved 11076 metadata records\n",
            "Target area files by priority:\n",
            "  Priority 1: 450 files\n",
            "  Priority 2: 154 files\n",
            "  Priority 3: 176 files\n",
            "  Priority 4: 1033 files\n",
            "  Priority 5: 821 files\n",
            "Total target area files: 2634\n",
            "Processing errors: 0\n"
          ]
        }
      ]
    },
    {
      "cell_type": "markdown",
      "source": [
        "## Cell 5: Batch Metadata Processing\n",
        "**The heavy lifting:** Processing 11,076 files sequentially would take forever, so I implemented parallel processing with 8 workers. It's like having 8 people reading different parts of a library catalog simultaneously.\n",
        "\n",
        "**Results that matter:** After 65 minutes of processing, I identified 2,634 files covering redwood areas - that's a 76% reduction in data volume while keeping 100% of relevant information."
      ],
      "metadata": {
        "id": "-Nfb3QeiQUuP"
      }
    },
    {
      "cell_type": "markdown",
      "source": [
        "# 5. Data Analysis and Visualization"
      ],
      "metadata": {
        "id": "ePZapuUUPxPc"
      }
    },
    {
      "cell_type": "code",
      "source": [
        "\n",
        "\n",
        "def analyze_dataset_coverage(metadata_list, target_area_files):\n",
        "    \"\"\"Analyze the spatial coverage and characteristics of the dataset\"\"\"\n",
        "\n",
        "    # Convert to DataFrame for analysis\n",
        "    df = pd.DataFrame(metadata_list)\n",
        "\n",
        "    # Extract bounds\n",
        "    df['lon_min'] = df['bounds_wgs84'].apply(lambda x: x['lon_min'])\n",
        "    df['lat_min'] = df['bounds_wgs84'].apply(lambda x: x['lat_min'])\n",
        "    df['lon_max'] = df['bounds_wgs84'].apply(lambda x: x['lon_max'])\n",
        "    df['lat_max'] = df['bounds_wgs84'].apply(lambda x: x['lat_max'])\n",
        "\n",
        "    print(\"Dataset Statistics:\")\n",
        "    print(f\"Total files: {len(df)}\")\n",
        "    print(f\"Total size: {df['file_size_mb'].sum():.2f} MB ({df['file_size_mb'].sum()/1024:.2f} GB)\")\n",
        "    print(f\"Average file size: {df['file_size_mb'].mean():.2f} MB\")\n",
        "    print(f\"\\nSpatial extent:\")\n",
        "    print(f\"Longitude: {df['lon_min'].min():.4f} to {df['lon_max'].max():.4f}\")\n",
        "    print(f\"Latitude: {df['lat_min'].min():.4f} to {df['lat_max'].max():.4f}\")\n",
        "\n",
        "    # Print target area statistics\n",
        "    print(\"\\nTarget Area Coverage:\")\n",
        "    for area_key, area_info in TARGET_AREAS.items():\n",
        "        if area_key in target_area_files and target_area_files[area_key]:\n",
        "            count = len(target_area_files[area_key])\n",
        "            size_mb = sum(f['file_size_mb'] for f in target_area_files[area_key])\n",
        "            print(f\"{area_info['name']} (Priority {area_info['priority']}): {count} files, {size_mb:.2f} MB\")\n",
        "\n",
        "    # Plot file locations\n",
        "    fig, ax = plt.subplots(1, 1, figsize=(14, 10))\n",
        "\n",
        "    # Plot all files\n",
        "    for _, row in df.iterrows():\n",
        "        rect = plt.Rectangle((row['lon_min'], row['lat_min']),\n",
        "                           row['lon_max'] - row['lon_min'],\n",
        "                           row['lat_max'] - row['lat_min'],\n",
        "                           fill=False, edgecolor='lightgray', alpha=0.3, linewidth=0.5)\n",
        "        ax.add_patch(rect)\n",
        "\n",
        "    # Plot target areas with different colors by priority\n",
        "    colors = {1: 'red', 2: 'orange', 3: 'green'}\n",
        "\n",
        "    for area_key, area_info in TARGET_AREAS.items():\n",
        "        color = colors.get(area_info['priority'], 'blue')\n",
        "        target_rect = plt.Rectangle(\n",
        "            (area_info['lon_min'], area_info['lat_min']),\n",
        "            area_info['lon_max'] - area_info['lon_min'],\n",
        "            area_info['lat_max'] - area_info['lat_min'],\n",
        "            fill=False, edgecolor=color, linewidth=2.5,\n",
        "            label=f\"{area_info['name']} (P{area_info['priority']})\"\n",
        "        )\n",
        "        ax.add_patch(target_rect)\n",
        "\n",
        "    ax.set_xlim(df['lon_min'].min(), df['lon_max'].max())\n",
        "    ax.set_ylim(df['lat_min'].min(), df['lat_max'].max())\n",
        "    ax.set_xlabel('Longitude')\n",
        "    ax.set_ylabel('Latitude')\n",
        "    ax.set_title('CTrees California Dataset Coverage with Redwood Forest Target Areas')\n",
        "    ax.grid(True, alpha=0.3)\n",
        "    ax.legend(loc='upper right', fontsize=8)\n",
        "    plt.tight_layout()\n",
        "    plt.show()\n",
        "\n",
        "    return df\n",
        "\n",
        "if metadata_list:\n",
        "    df_metadata = analyze_dataset_coverage(metadata_list, target_area_files)"
      ],
      "metadata": {
        "colab": {
          "base_uri": "https://localhost:8080/",
          "height": 1825
        },
        "id": "pZkvl3YPP2L1",
        "outputId": "c107ccae-14d2-4884-e447-22e39184da2a"
      },
      "execution_count": 6,
      "outputs": [
        {
          "output_type": "stream",
          "name": "stdout",
          "text": [
            "Dataset Statistics:\n",
            "Total files: 11076\n",
            "Total size: 329166.14 MB (321.45 GB)\n",
            "Average file size: 29.72 MB\n",
            "\n",
            "Spatial extent:\n",
            "Longitude: -124.4412 to -114.1210\n",
            "Latitude: 32.4981 to 42.0675\n",
            "\n",
            "Target Area Coverage:\n",
            "Humboldt County Forests (Redwood National/State Parks + Humboldt Redwoods) (Priority 1): 242 files, 12803.27 MB\n",
            "Sequoia National Park (Giant Sequoias) (Priority 1): 208 files, 9294.38 MB\n",
            "Santa Cruz Mountains Recovery Areas (Priority 2): 38 files, 1833.40 MB\n",
            "Mendocino County Continuous Forests (Priority 2): 116 files, 5978.82 MB\n",
            "Sonoma County (Existing BigTreeID Study Area) (Priority 3): 58 files, 2106.93 MB\n",
            "Big Sur Redwood Forests (Priority 3): 48 files, 1726.74 MB\n",
            "Yosemite Giant Sequoia Groves (Priority 3): 70 files, 4260.07 MB\n",
            "Coast Reference 0 (Priority 4): 120 files, 3833.30 MB\n",
            "Coast Reference 1 (Priority 4): 18 files, 349.66 MB\n",
            "Coast Reference 2 (Priority 4): 37 files, 800.79 MB\n",
            "Coast Reference 3 (Priority 4): 72 files, 1376.70 MB\n",
            "Coast Reference 4 (Priority 4): 9 files, 196.90 MB\n",
            "Coast Reference 5 (Priority 4): 115 files, 4350.03 MB\n",
            "Coast Reference 6 (Priority 4): 395 files, 9019.55 MB\n",
            "Coast Reference 7 (Priority 4): 161 files, 7746.73 MB\n",
            "Coast Reference 8 (Priority 4): 20 files, 596.50 MB\n",
            "Coast Reference 9 (Priority 4): 12 files, 543.42 MB\n",
            "Coast Reference 10 (Priority 4): 25 files, 651.27 MB\n",
            "Coast Reference 11 (Priority 4): 11 files, 249.53 MB\n",
            "Coast Reference 12 (Priority 4): 21 files, 691.81 MB\n",
            "Coast Reference 14 (Priority 4): 17 files, 383.11 MB\n",
            "Sequoia Reference 0 (Priority 5): 94 files, 4124.05 MB\n",
            "Sequoia Reference 1 (Priority 5): 7 files, 424.88 MB\n",
            "Sequoia Reference 2 (Priority 5): 9 files, 584.20 MB\n",
            "Sequoia Reference 3 (Priority 5): 72 files, 3435.86 MB\n",
            "Sequoia Reference 4 (Priority 5): 148 files, 7452.39 MB\n",
            "Sequoia Reference 5 (Priority 5): 9 files, 343.72 MB\n",
            "Sequoia Reference 6 (Priority 5): 4 files, 263.36 MB\n",
            "Sequoia Reference 8 (Priority 5): 94 files, 4207.16 MB\n",
            "Sequoia Reference 9 (Priority 5): 135 files, 8615.05 MB\n",
            "Sequoia Reference 10 (Priority 5): 4 files, 199.20 MB\n",
            "Sequoia Reference 11 (Priority 5): 1 files, 60.44 MB\n",
            "Sequoia Reference 12 (Priority 5): 10 files, 436.06 MB\n",
            "Sequoia Reference 14 (Priority 5): 108 files, 5489.30 MB\n",
            "Sequoia Reference 15 (Priority 5): 84 files, 2753.94 MB\n",
            "Sequoia Reference 20 (Priority 5): 42 files, 685.04 MB\n"
          ]
        },
        {
          "output_type": "display_data",
          "data": {
            "text/plain": [
              "<Figure size 1400x1000 with 1 Axes>"
            ],
            "image/png": "[encoded data removed]"
          },
          "metadata": {}
        }
      ]
    },
    {
      "cell_type": "markdown",
      "source": [
        "## Cell 6: Data Analysis and Visualization\n",
        "**Making sense of the numbers:** Raw data means nothing without analysis. This code calculates coverage statistics and creates visualizations showing where our target files are located across California.\n",
        "\n",
        "**The big picture:** We're looking at 321GB total, but only 108GB covers our redwood target areas. The visualization clearly shows the concentration of files in Northern California's redwood regions."
      ],
      "metadata": {
        "id": "H8RbRtxjQ0OB"
      }
    },
    {
      "cell_type": "markdown",
      "source": [
        "# 6. Processing Pipeline for TIF Data\n",
        "✅ **Complementary Task 1: TIF Processing Pipeline** - Extract statistics and create visualizations"
      ],
      "metadata": {
        "id": "gCQohYwrP_TN"
      }
    },
    {
      "cell_type": "code",
      "source": [
        "# %% TIF Processing Pipeline\n",
        "def process_tif_file(bucket, key, output_dir='processed_data'):\n",
        "    \"\"\"Process a single TIF file with various analyses\"\"\"\n",
        "\n",
        "    os.makedirs(output_dir, exist_ok=True)\n",
        "    s3_url = f's3://{bucket}/{key}'\n",
        "\n",
        "    with rasterio.Env(AWS_NO_SIGN_REQUEST='YES'):\n",
        "        with rasterio.open(s3_url) as src:\n",
        "            # Read data\n",
        "            data = src.read(1)  # Assuming single band\n",
        "\n",
        "            # Basic statistics\n",
        "            stats = {\n",
        "                'filename': key,\n",
        "                'min': float(np.nanmin(data)),\n",
        "                'max': float(np.nanmax(data)),\n",
        "                'mean': float(np.nanmean(data)),\n",
        "                'std': float(np.nanstd(data)),\n",
        "                'median': float(np.nanmedian(data)),\n",
        "                'valid_pixels': int(np.sum(~np.isnan(data))),\n",
        "                'total_pixels': int(data.size)\n",
        "            }\n",
        "\n",
        "            # Height distribution\n",
        "            valid_data = data[~np.isnan(data)]\n",
        "\n",
        "            # Visualization\n",
        "            fig, axes = plt.subplots(1, 2, figsize=(15, 6))\n",
        "\n",
        "            # Height map\n",
        "            im = axes[0].imshow(data, cmap='viridis', vmin=0, vmax=np.percentile(valid_data, 95))\n",
        "            axes[0].set_title(f'Tree Height Map\\n{os.path.basename(key)}')\n",
        "            axes[0].axis('off')\n",
        "            plt.colorbar(im, ax=axes[0], label='Height (m)')\n",
        "\n",
        "            # Height distribution\n",
        "            axes[1].hist(valid_data, bins=50, edgecolor='black', alpha=0.7)\n",
        "            axes[1].set_xlabel('Height (m)')\n",
        "            axes[1].set_ylabel('Frequency')\n",
        "            axes[1].set_title('Height Distribution')\n",
        "            axes[1].grid(True, alpha=0.3)\n",
        "\n",
        "            plt.tight_layout()\n",
        "            plt.savefig(os.path.join(output_dir, f\"{os.path.basename(key).replace('.tif', '_analysis.png')}\"))\n",
        "            plt.close()\n",
        "\n",
        "            return stats\n",
        "\n",
        "# Process a sample file from target area\n",
        "if target_area_files:\n",
        "    # Get first non-empty area\n",
        "    for area_key, files in target_area_files.items():\n",
        "        if files:\n",
        "            sample_stats = process_tif_file(bucket_name, files[0]['filename'])\n",
        "            print(f\"Sample file statistics from {TARGET_AREAS[area_key]['name']}:\")\n",
        "            print(json.dumps(sample_stats, indent=2))\n",
        "            break"
      ],
      "metadata": {
        "colab": {
          "base_uri": "https://localhost:8080/",
          "height": 0
        },
        "id": "ZB2liY9mQDVR",
        "outputId": "a0a20d7f-94a4-462f-91de-d37ee330902a"
      },
      "execution_count": 7,
      "outputs": [
        {
          "output_type": "stream",
          "name": "stdout",
          "text": [
            "Sample file statistics from Humboldt County Forests (Redwood National/State Parks + Humboldt Redwoods):\n",
            "{\n",
            "  \"filename\": \"v1/m_4012301_ne_10_060_20200714_tree_height.tif\",\n",
            "  \"min\": 0.0,\n",
            "  \"max\": 255.0,\n",
            "  \"mean\": 39.60846246300348,\n",
            "  \"std\": 35.59716960315561,\n",
            "  \"median\": 40.0,\n",
            "  \"valid_pixels\": 116565000,\n",
            "  \"total_pixels\": 116565000\n",
            "}\n"
          ]
        }
      ]
    },
    {
      "cell_type": "markdown",
      "source": [
        "## Cell 7: Processing Pipeline for TIF Data\n",
        "**Getting into the actual tree data:** Now I'm reading the pixel values representing tree heights. This pipeline calculates statistics (min, max, average heights) and creates visualizations showing the forest canopy structure.\n",
        "\n",
        "**Real forest insights:** The sample shows tree heights ranging 0-255 meters with an average of 40m - typical for mature redwood forests. The visualizations reveal forest density patterns that would be invisible in raw data."
      ],
      "metadata": {
        "id": "IgJpr5AgQ3mI"
      }
    },
    {
      "cell_type": "markdown",
      "source": [
        "## Cell 6: Data Analysis and Visualization\n",
        "**Making sense of the numbers:** Raw data means nothing without analysis. This code calculates coverage statistics and creates visualizations showing where our target files are located across California.\n",
        "\n",
        "**The big picture:** We're looking at 321GB total, but only 108GB covers our redwood target areas. The visualization clearly shows the concentration of files in Northern California's redwood regions."
      ],
      "metadata": {
        "id": "3a9D0a8FQXiG"
      }
    },
    {
      "cell_type": "markdown",
      "source": [
        "# 7. Batch Download for Target Area"
      ],
      "metadata": {
        "id": "ENgvLC_xQGll"
      }
    },
    {
      "cell_type": "code",
      "source": [
        "# %% Download Target Area Files\n",
        "def download_target_files(target_files_dict, output_dir='target_area_data', max_files_per_area=5):\n",
        "    \"\"\"Download files that intersect with target areas\"\"\"\n",
        "\n",
        "    os.makedirs(output_dir, exist_ok=True)\n",
        "    downloaded = {}\n",
        "\n",
        "    for area_key, files in target_files_dict.items():\n",
        "        if files:\n",
        "            area_dir = os.path.join(output_dir, area_key)\n",
        "            os.makedirs(area_dir, exist_ok=True)\n",
        "            downloaded[area_key] = []\n",
        "\n",
        "            print(f\"\\nDownloading files for {TARGET_AREAS[area_key]['name']}:\")\n",
        "\n",
        "            for i, file_info in enumerate(files[:max_files_per_area]):\n",
        "                filename = file_info['filename']\n",
        "                local_path = os.path.join(area_dir, os.path.basename(filename))\n",
        "\n",
        "                print(f\"  {i+1}/{min(len(files), max_files_per_area)}: {os.path.basename(filename)}\")\n",
        "\n",
        "                try:\n",
        "                    s3_client.download_file(bucket_name, filename, local_path)\n",
        "                    downloaded[area_key].append(local_path)\n",
        "                except Exception as e:\n",
        "                    print(f\"  Error: {str(e)}\")\n",
        "\n",
        "    return downloaded\n",
        "\n",
        "# Download sample files from each target area\n",
        "if target_area_files:\n",
        "    downloaded_files = download_target_files(target_area_files, max_files_per_area=3)\n",
        "    for area_key, files in downloaded_files.items():\n",
        "        print(f\"{TARGET_AREAS[area_key]['name']}: {len(files)} files downloaded\")"
      ],
      "metadata": {
        "colab": {
          "base_uri": "https://localhost:8080/",
          "height": 0
        },
        "id": "hGR3Gj4bQJTA",
        "outputId": "57410cbb-fe2d-43f7-f1cc-65169af240a7"
      },
      "execution_count": 8,
      "outputs": [
        {
          "output_type": "stream",
          "name": "stdout",
          "text": [
            "\n",
            "Downloading files for Humboldt County Forests (Redwood National/State Parks + Humboldt Redwoods):\n",
            "  1/3: m_4012301_ne_10_060_20200714_tree_height.tif\n",
            "  2/3: m_4012301_nw_10_060_20200714_tree_height.tif\n",
            "  3/3: m_4012301_se_10_060_20200714_tree_height.tif\n",
            "\n",
            "Downloading files for Sequoia National Park (Giant Sequoias):\n",
            "  1/3: m_3611801_ne_11_060_20200804_tree_height.tif\n",
            "  2/3: m_3611801_nw_11_060_20200804_tree_height.tif\n",
            "  3/3: m_3611801_se_11_060_20200805_tree_height.tif\n",
            "\n",
            "Downloading files for Santa Cruz Mountains Recovery Areas:\n",
            "  1/3: m_3612101_nw_10_060_20200527_tree_height.tif\n",
            "  2/3: m_3612207_ne_10_060_20200527_tree_height.tif\n",
            "  3/3: m_3612208_ne_10_060_20200527_tree_height.tif\n",
            "\n",
            "Downloading files for Mendocino County Continuous Forests:\n",
            "  1/3: m_3812303_ne_10_060_20200608_tree_height.tif\n",
            "  2/3: m_3812303_nw_10_060_20200608_tree_height.tif\n",
            "  3/3: m_3812303_se_10_060_20200608_tree_height.tif\n",
            "\n",
            "Downloading files for Sonoma County (Existing BigTreeID Study Area):\n",
            "  1/3: m_3812217_ne_10_060_20200602_tree_height.tif\n",
            "  2/3: m_3812217_nw_10_060_20200602_tree_height.tif\n",
            "  3/3: m_3812217_se_10_060_20200602_tree_height.tif\n",
            "\n",
            "Downloading files for Big Sur Redwood Forests:\n",
            "  1/3: m_3512104_ne_10_060_20200616_tree_height.tif\n",
            "  2/3: m_3512105_ne_10_060_20200616_tree_height.tif\n",
            "  3/3: m_3512105_nw_10_060_20200616_tree_height.tif\n",
            "\n",
            "Downloading files for Yosemite Giant Sequoia Groves:\n",
            "  1/3: m_3711910_ne_11_060_20200626_tree_height.tif\n",
            "  2/3: m_3711910_se_11_060_20200626_tree_height.tif\n",
            "  3/3: m_3711911_ne_11_060_20200805_tree_height.tif\n",
            "\n",
            "Downloading files for Coast Reference 0:\n",
            "  1/3: m_3612101_ne_10_060_20200527_tree_height.tif\n",
            "  2/3: m_3612102_ne_10_060_20200527_tree_height.tif\n",
            "  3/3: m_3612102_nw_10_060_20200527_tree_height.tif\n",
            "\n",
            "Downloading files for Coast Reference 1:\n",
            "  1/3: m_3611849_sw_11_060_20200705_tree_height.tif\n",
            "  2/3: m_3611857_nw_11_060_20200705_tree_height.tif\n",
            "  3/3: m_3611857_sw_11_060_20200705_tree_height.tif\n",
            "\n",
            "Downloading files for Coast Reference 2:\n",
            "  1/3: m_3712220_ne_10_060_20200524_tree_height.tif\n",
            "  2/3: m_3712221_ne_10_060_20200524_tree_height.tif\n",
            "  3/3: m_3712221_nw_10_060_20200524_tree_height.tif\n",
            "\n",
            "Downloading files for Coast Reference 3:\n",
            "  1/3: m_3712202_ne_10_060_20200602_tree_height.tif\n",
            "  2/3: m_3712202_nw_10_060_20200602_tree_height.tif\n",
            "  3/3: m_3712202_se_10_060_20200602_tree_height.tif\n",
            "\n",
            "Downloading files for Coast Reference 4:\n",
            "  1/3: m_3612110_ne_10_060_20200527_tree_height.tif\n",
            "  2/3: m_3612110_nw_10_060_20200527_tree_height.tif\n",
            "  3/3: m_3612110_se_10_060_20200527_tree_height.tif\n",
            "\n",
            "Downloading files for Coast Reference 5:\n",
            "  1/3: m_3812201_se_10_060_20200604_tree_height.tif\n",
            "  2/3: m_3812201_sw_10_060_20200604_tree_height.tif\n",
            "  3/3: m_3812202_se_10_060_20200602_tree_height.tif\n",
            "\n",
            "Downloading files for Coast Reference 6:\n",
            "  1/3: m_3512001_ne_10_060_20200609_tree_height.tif\n",
            "  2/3: m_3512001_nw_10_060_20200609_tree_height.tif\n",
            "  3/3: m_3512001_se_10_060_20200609_tree_height.tif\n",
            "\n",
            "Downloading files for Coast Reference 7:\n",
            "  1/3: m_3812306_ne_10_060_20200604_tree_height.tif\n",
            "  2/3: m_3812306_nw_10_060_20200604_tree_height.tif\n",
            "  3/3: m_3812307_ne_10_060_20200604_tree_height.tif\n",
            "\n",
            "Downloading files for Coast Reference 8:\n",
            "  1/3: m_3712206_ne_10_060_20200524_tree_height.tif\n",
            "  2/3: m_3712206_se_10_060_20200524_tree_height.tif\n",
            "  3/3: m_3712207_ne_10_060_20200526_tree_height.tif\n",
            "\n",
            "Downloading files for Coast Reference 9:\n",
            "  1/3: m_4112301_se_10_060_20200711_tree_height.tif\n",
            "  2/3: m_4112301_sw_10_060_20200711_tree_height.tif\n",
            "  3/3: m_4112309_ne_10_060_20200711_tree_height.tif\n",
            "\n",
            "Downloading files for Coast Reference 10:\n",
            "  1/3: m_3712101_se_10_060_20200525_tree_height.tif\n",
            "  2/3: m_3712101_sw_10_060_20200525_tree_height.tif\n",
            "  3/3: m_3712102_se_10_060_20200525_tree_height.tif\n",
            "\n",
            "Downloading files for Coast Reference 11:\n",
            "  1/3: m_4012422_sw_10_060_20200718_tree_height.tif\n",
            "  2/3: m_4012429_se_10_060_20200714_tree_height.tif\n",
            "  3/3: m_4012430_nw_10_060_20200718_tree_height.tif\n",
            "\n",
            "Downloading files for Coast Reference 12:\n",
            "  1/3: m_3812222_se_10_060_20200528_tree_height.tif\n",
            "  2/3: m_3812223_se_10_060_20200528_tree_height.tif\n",
            "  3/3: m_3812223_sw_10_060_20200528_tree_height.tif\n",
            "\n",
            "Downloading files for Coast Reference 14:\n",
            "  1/3: m_3512033_se_10_060_20200525_tree_height.tif\n",
            "  2/3: m_3512034_se_10_060_20200525_tree_height.tif\n",
            "  3/3: m_3512034_sw_10_060_20200525_tree_height.tif\n",
            "\n",
            "Downloading files for Sequoia Reference 0:\n",
            "  1/3: m_3511801_ne_11_060_20200805_tree_height.tif\n",
            "  2/3: m_3511801_nw_11_060_20200705_tree_height.tif\n",
            "  3/3: m_3511801_se_11_060_20200805_tree_height.tif\n",
            "\n",
            "Downloading files for Sequoia Reference 1:\n",
            "  1/3: m_3711910_nw_11_060_20200626_tree_height.tif\n",
            "  2/3: m_3711910_sw_11_060_20200626_tree_height.tif\n",
            "  3/3: m_3711918_nw_11_060_20200626_tree_height.tif\n",
            "\n",
            "Downloading files for Sequoia Reference 2:\n",
            "  1/3: m_3812028_se_10_060_20200619_tree_height.tif\n",
            "  2/3: m_3812028_sw_10_060_20200619_tree_height.tif\n",
            "  3/3: m_3812029_sw_10_060_20200619_tree_height.tif\n",
            "\n",
            "Downloading files for Sequoia Reference 3:\n",
            "  1/3: m_3812033_ne_10_060_20200617_tree_height.tif\n",
            "  2/3: m_3812033_nw_10_060_20200617_tree_height.tif\n",
            "  3/3: m_3812033_se_10_060_20200617_tree_height.tif\n",
            "\n",
            "Downloading files for Sequoia Reference 4:\n",
            "  1/3: m_3711901_ne_11_060_20200626_tree_height.tif\n",
            "  2/3: m_3711901_nw_11_060_20200626_tree_height.tif\n",
            "  3/3: m_3711901_se_11_060_20200626_tree_height.tif\n",
            "\n",
            "Downloading files for Sequoia Reference 5:\n",
            "  1/3: m_3812007_ne_10_060_20200724_tree_height.tif\n",
            "  2/3: m_3812007_se_10_060_20200724_tree_height.tif\n",
            "  3/3: m_3812008_ne_10_060_20200724_tree_height.tif\n",
            "\n",
            "Downloading files for Sequoia Reference 6:\n",
            "  1/3: m_3711935_se_11_060_20200805_tree_height.tif\n",
            "  2/3: m_3711936_sw_11_060_20200805_tree_height.tif\n",
            "  3/3: m_3711943_ne_11_060_20200805_tree_height.tif\n",
            "\n",
            "Downloading files for Sequoia Reference 8:\n",
            "  1/3: m_3611906_ne_11_060_20200803_tree_height.tif\n",
            "  2/3: m_3611906_nw_11_060_20200803_tree_height.tif\n",
            "  3/3: m_3611906_se_11_060_20200705_tree_height.tif\n",
            "\n",
            "Downloading files for Sequoia Reference 9:\n",
            "  1/3: m_3812001_ne_10_060_20200709_tree_height.tif\n",
            "  2/3: m_3812001_nw_10_060_20200709_tree_height.tif\n",
            "  3/3: m_3812001_se_10_060_20200709_tree_height.tif\n",
            "\n",
            "Downloading files for Sequoia Reference 10:\n",
            "  1/3: m_3311610_ne_11_060_20200615_tree_height.tif\n",
            "  2/3: m_3311610_se_11_060_20200615_tree_height.tif\n",
            "  3/3: m_3311611_nw_11_060_20200615_tree_height.tif\n",
            "\n",
            "Downloading files for Sequoia Reference 11:\n",
            "  1/1: m_3812040_ne_10_060_20200730_tree_height.tif\n",
            "\n",
            "Downloading files for Sequoia Reference 12:\n",
            "  1/3: m_3411733_se_11_060_20200621_tree_height.tif\n",
            "  2/3: m_3411733_sw_11_060_20200621_tree_height.tif\n",
            "  3/3: m_3411734_se_11_060_20200621_tree_height.tif\n",
            "\n",
            "Downloading files for Sequoia Reference 14:\n",
            "  1/3: m_3912102_ne_10_060_20200709_tree_height.tif\n",
            "  2/3: m_3912102_nw_10_060_20200709_tree_height.tif\n",
            "  3/3: m_3912102_se_10_060_20200709_tree_height.tif\n",
            "\n",
            "Downloading files for Sequoia Reference 15:\n",
            "  1/3: m_3411633_se_11_060_20200415_tree_height.tif\n",
            "  2/3: m_3411633_sw_11_060_20200415_tree_height.tif\n",
            "  3/3: m_3411634_sw_11_060_20200415_tree_height.tif\n",
            "\n",
            "Downloading files for Sequoia Reference 20:\n",
            "  1/3: m_3712027_se_10_060_20200619_tree_height.tif\n",
            "  2/3: m_3712027_sw_10_060_20200619_tree_height.tif\n",
            "  3/3: m_3712028_se_10_060_20200619_tree_height.tif\n",
            "Humboldt County Forests (Redwood National/State Parks + Humboldt Redwoods): 3 files downloaded\n",
            "Sequoia National Park (Giant Sequoias): 3 files downloaded\n",
            "Santa Cruz Mountains Recovery Areas: 3 files downloaded\n",
            "Mendocino County Continuous Forests: 3 files downloaded\n",
            "Sonoma County (Existing BigTreeID Study Area): 3 files downloaded\n",
            "Big Sur Redwood Forests: 3 files downloaded\n",
            "Yosemite Giant Sequoia Groves: 3 files downloaded\n",
            "Coast Reference 0: 3 files downloaded\n",
            "Coast Reference 1: 3 files downloaded\n",
            "Coast Reference 2: 3 files downloaded\n",
            "Coast Reference 3: 3 files downloaded\n",
            "Coast Reference 4: 3 files downloaded\n",
            "Coast Reference 5: 3 files downloaded\n",
            "Coast Reference 6: 3 files downloaded\n",
            "Coast Reference 7: 3 files downloaded\n",
            "Coast Reference 8: 3 files downloaded\n",
            "Coast Reference 9: 3 files downloaded\n",
            "Coast Reference 10: 3 files downloaded\n",
            "Coast Reference 11: 3 files downloaded\n",
            "Coast Reference 12: 3 files downloaded\n",
            "Coast Reference 14: 3 files downloaded\n",
            "Sequoia Reference 0: 3 files downloaded\n",
            "Sequoia Reference 1: 3 files downloaded\n",
            "Sequoia Reference 2: 3 files downloaded\n",
            "Sequoia Reference 3: 3 files downloaded\n",
            "Sequoia Reference 4: 3 files downloaded\n",
            "Sequoia Reference 5: 3 files downloaded\n",
            "Sequoia Reference 6: 3 files downloaded\n",
            "Sequoia Reference 8: 3 files downloaded\n",
            "Sequoia Reference 9: 3 files downloaded\n",
            "Sequoia Reference 10: 3 files downloaded\n",
            "Sequoia Reference 11: 1 files downloaded\n",
            "Sequoia Reference 12: 3 files downloaded\n",
            "Sequoia Reference 14: 3 files downloaded\n",
            "Sequoia Reference 15: 3 files downloaded\n",
            "Sequoia Reference 20: 3 files downloaded\n"
          ]
        }
      ]
    },
    {
      "cell_type": "markdown",
      "source": [
        "## Cell 8: Batch Download for Target Area\n",
        "**Selective downloading:** Rather than downloading everything, I'm strategically downloading 3 sample files from each target area. This gives us representative data without overwhelming storage requirements.\n",
        "\n",
        "**Quality control:** Downloaded 111 files across all target areas for detailed analysis while keeping the total download under 4GB instead of 108GB."
      ],
      "metadata": {
        "id": "VU9QBgDVQ7w5"
      }
    },
    {
      "cell_type": "markdown",
      "source": [
        "# 8. Generate Summary Report\n",
        "✅ **Complementary Task 2: Report on Key Findings** - Document results and next steps\n"
      ],
      "metadata": {
        "id": "JC7JreczQOx1"
      }
    },
    {
      "cell_type": "code",
      "source": [
        "# %% Generate Report\n",
        "def generate_summary_report(metadata_list, target_area_files_dict, errors):\n",
        "    \"\"\"Generate a comprehensive summary report\"\"\"\n",
        "\n",
        "    # Calculate total target area statistics\n",
        "    all_target_files = []\n",
        "    priority_stats = {1: {'count': 0, 'size_gb': 0},\n",
        "                     2: {'count': 0, 'size_gb': 0},\n",
        "                     3: {'count': 0, 'size_gb': 0},\n",
        "                     4: {'count': 0, 'size_gb': 0},\n",
        "                     5: {'count': 0, 'size_gb': 0}}\n",
        "\n",
        "    area_summaries = []\n",
        "    for area_key, files in target_area_files_dict.items():\n",
        "        if files:\n",
        "            area_info = TARGET_AREAS[area_key]\n",
        "            size_gb = sum(f['file_size_mb'] for f in files) / 1024\n",
        "            priority_stats[area_info['priority']]['count'] += len(files)\n",
        "            priority_stats[area_info['priority']]['size_gb'] += size_gb\n",
        "            all_target_files.extend(files)\n",
        "\n",
        "            area_summaries.append({\n",
        "                'area_name': area_info['name'],\n",
        "                'priority': area_info['priority'],\n",
        "                'files_count': len(files),\n",
        "                'size_gb': size_gb,\n",
        "                'bounds': {\n",
        "                    'lon_min': area_info['lon_min'],\n",
        "                    'lat_min': area_info['lat_min'],\n",
        "                    'lon_max': area_info['lon_max'],\n",
        "                    'lat_max': area_info['lat_max']\n",
        "                }\n",
        "            })\n",
        "\n",
        "    report = {\n",
        "        'timestamp': datetime.now().isoformat(),\n",
        "        'dataset_summary': {\n",
        "            'total_files_processed': len(metadata_list),\n",
        "            'total_size_gb': sum(m['file_size_mb'] for m in metadata_list) / 1024,\n",
        "            'processing_errors': len(errors),\n",
        "            'error_rate': len(errors) / (len(metadata_list) + len(errors)) * 100 if (metadata_list or errors) else 0\n",
        "        },\n",
        "        'target_areas_summary': {\n",
        "            'total_target_files': len(all_target_files),\n",
        "            'total_target_size_gb': sum(f['file_size_mb'] for f in all_target_files) / 1024 if all_target_files else 0,\n",
        "            'priority_breakdown': priority_stats,\n",
        "            'areas': area_summaries\n",
        "        },\n",
        "        'recommendations': []\n",
        "    }\n",
        "\n",
        "    # Add recommendations based on findings\n",
        "    if priority_stats[1]['count'] > 1000:\n",
        "        report['recommendations'].append(\n",
        "            \"Priority 1 areas contain 1000+ files. Consider parallel processing for Phase 1 implementation.\"\n",
        "        )\n",
        "\n",
        "    if report['dataset_summary']['error_rate'] > 5:\n",
        "        report['recommendations'].append(\n",
        "            \"High error rate detected. Review error logs and implement retry mechanism.\"\n",
        "        )\n",
        "\n",
        "    report['recommendations'].extend([\n",
        "        \"Start with Priority 1 areas (Humboldt and Sequoia) for immediate BigTreeID expansion\",\n",
        "        \"Use 10+ points/m² LiDAR density areas for optimal species classification\",\n",
        "        \"Implement distributed processing with Dask for full California coverage\",\n",
        "        \"Coordinate with existing Sonoma County reference data for validation\",\n",
        "        \"Consider temporal analysis in areas with repeat LiDAR coverage\"\n",
        "    ])\n",
        "\n",
        "    # Save report\n",
        "    with open('ctrees_processing_report.json', 'w') as f:\n",
        "        json.dump(report, f, indent=2)\n",
        "\n",
        "    print(\"\\n=== SUMMARY REPORT ===\")\n",
        "    print(f\"Total files processed: {report['dataset_summary']['total_files_processed']}\")\n",
        "    print(f\"Total dataset size: {report['dataset_summary']['total_size_gb']:.2f} GB\")\n",
        "    print(f\"\\nRedwood forest coverage:\")\n",
        "    for area in area_summaries:\n",
        "        print(f\"  {area['area_name']}: {area['files_count']} files ({area['size_gb']:.2f} GB)\")\n",
        "    print(f\"\\nTotal files in redwood areas: {report['target_areas_summary']['total_target_files']}\")\n",
        "    print(f\"Total size in redwood areas: {report['target_areas_summary']['total_target_size_gb']:.2f} GB\")\n",
        "\n",
        "    return report\n",
        "\n",
        "# Generate final report\n",
        "report = generate_summary_report(metadata_list, target_area_files, errors)"
      ],
      "metadata": {
        "colab": {
          "base_uri": "https://localhost:8080/",
          "height": 0
        },
        "id": "vkhx-2dtQQP1",
        "outputId": "e13c9fee-c072-4007-8211-c15d5a7e7674"
      },
      "execution_count": 9,
      "outputs": [
        {
          "output_type": "stream",
          "name": "stdout",
          "text": [
            "\n",
            "=== SUMMARY REPORT ===\n",
            "Total files processed: 11076\n",
            "Total dataset size: 321.45 GB\n",
            "\n",
            "Redwood forest coverage:\n",
            "  Humboldt County Forests (Redwood National/State Parks + Humboldt Redwoods): 242 files (12.50 GB)\n",
            "  Sequoia National Park (Giant Sequoias): 208 files (9.08 GB)\n",
            "  Santa Cruz Mountains Recovery Areas: 38 files (1.79 GB)\n",
            "  Mendocino County Continuous Forests: 116 files (5.84 GB)\n",
            "  Sonoma County (Existing BigTreeID Study Area): 58 files (2.06 GB)\n",
            "  Big Sur Redwood Forests: 48 files (1.69 GB)\n",
            "  Yosemite Giant Sequoia Groves: 70 files (4.16 GB)\n",
            "  Coast Reference 0: 120 files (3.74 GB)\n",
            "  Coast Reference 1: 18 files (0.34 GB)\n",
            "  Coast Reference 2: 37 files (0.78 GB)\n",
            "  Coast Reference 3: 72 files (1.34 GB)\n",
            "  Coast Reference 4: 9 files (0.19 GB)\n",
            "  Coast Reference 5: 115 files (4.25 GB)\n",
            "  Coast Reference 6: 395 files (8.81 GB)\n",
            "  Coast Reference 7: 161 files (7.57 GB)\n",
            "  Coast Reference 8: 20 files (0.58 GB)\n",
            "  Coast Reference 9: 12 files (0.53 GB)\n",
            "  Coast Reference 10: 25 files (0.64 GB)\n",
            "  Coast Reference 11: 11 files (0.24 GB)\n",
            "  Coast Reference 12: 21 files (0.68 GB)\n",
            "  Coast Reference 14: 17 files (0.37 GB)\n",
            "  Sequoia Reference 0: 94 files (4.03 GB)\n",
            "  Sequoia Reference 1: 7 files (0.41 GB)\n",
            "  Sequoia Reference 2: 9 files (0.57 GB)\n",
            "  Sequoia Reference 3: 72 files (3.36 GB)\n",
            "  Sequoia Reference 4: 148 files (7.28 GB)\n",
            "  Sequoia Reference 5: 9 files (0.34 GB)\n",
            "  Sequoia Reference 6: 4 files (0.26 GB)\n",
            "  Sequoia Reference 8: 94 files (4.11 GB)\n",
            "  Sequoia Reference 9: 135 files (8.41 GB)\n",
            "  Sequoia Reference 10: 4 files (0.19 GB)\n",
            "  Sequoia Reference 11: 1 files (0.06 GB)\n",
            "  Sequoia Reference 12: 10 files (0.43 GB)\n",
            "  Sequoia Reference 14: 108 files (5.36 GB)\n",
            "  Sequoia Reference 15: 84 files (2.69 GB)\n",
            "  Sequoia Reference 20: 42 files (0.67 GB)\n",
            "\n",
            "Total files in redwood areas: 2634\n",
            "Total size in redwood areas: 105.34 GB\n"
          ]
        }
      ]
    },
    {
      "cell_type": "markdown",
      "source": [
        "## Cell 9: Generate Summary Report\n",
        "**Bringing it all together:** The final report summarizes everything we've discovered and provides actionable recommendations for next steps in the research.\n",
        "\n",
        "**Bottom line:** Successfully filtered 11,076 files down to 2,634 relevant ones, saving 213GB of unnecessary downloads while maintaining complete coverage of California's redwood forests."
      ],
      "metadata": {
        "id": "q4rH9h72Q-2N"
      }
    }
  ]
}